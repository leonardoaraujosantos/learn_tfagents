{
 "cells": [
  {
   "cell_type": "markdown",
   "metadata": {},
   "source": [
    "# Reinforce (Policy Gradient)\n",
    "\n",
    "#### Basic Idea\n",
    "Do a bunch of random stuff, see what works better and do it more of the things that work nice in the future. Mathematically speaking you want to maximize:\n",
    "$$\\sum_i{log p(y_i|x_i)}$$\n",
    "\n",
    "Here we have the following:\n",
    "\n",
    "* $y_i$ : Some action at time step i\n",
    "* $x_i$ : Some state at time step i\n",
    "* $p$ : Policy, some function that does some action given some state\n",
    "\n",
    "The problem is that on Reinforcement Learning we don't have $y_i$ so we need to sample $$y_i \\sim p(\\bullet|x_i)$$\n",
    "\n",
    "#### Some Vocabulary\n",
    "* Episode: A set of states/action/rewards inside a game starting from a initial state until the terminal state\n",
    "* Rollout: Same as episode but following a pre-trained policy\n",
    "* Advantage Function:  How much is a certain action a good or bad decision given a certain state, it modulate the probability of repeating a certain action in the future.\n",
    "* Baseline: Something to decrease the variance of the Advantage Function\n",
    "\n",
    "#### Imagine Policy Gradients as Supervised Learning\n",
    "Imagine someone gave you batches of rollouts (several actions and the result WIN/LOOSE),\n",
    "\n",
    "![alt text](docs/imgs/RL_PG_1.png \"Supervised RL\")\n",
    "\n",
    "Now we modulate the log probability depending on the result, for example if we win:\n",
    "\n",
    "$$(+1).(log p(y_i|x_i))$$ \n",
    "\n",
    "and if we loose:\n",
    "\n",
    "$$(-1).(log p(y_i|x_i))$$\n",
    "\n",
    "This modulating factor we call it Advantage Function $A_i$ , and in Reinforcement Learning there are several ways to define this function.\n",
    "$$\\sum_i{A_i * log p(y_i|x_i)}$$\n",
    "\n",
    "#### Pros and Cons of Policy Gradeints\n",
    "##### Advantages of Policy Gradient Methods\n",
    "* Works with continous action spaces\n",
    "* Automatically explore (Because we just sample from our output)\n",
    "* Some problems are simpler to define from it's policy (ie: Breakout game, you just move the Pad to the direction of the ball ...)\n",
    "\n",
    "#### Installing\n",
    "```bash\n",
    "pip install --user --upgrade tf-agents-nightly  # depends on tf-nightly\n",
    "pip install tfp-nightly\n",
    "\n",
    "```\n",
    "\n",
    "#### References\n",
    "* https://www.youtube.com/watch?v=tqrcjHuNdmQ\n",
    "* https://www.youtube.com/watch?v=S_gwYj1Q-44\n",
    "* https://www.youtube.com/watch?v=-TTziY7EmUA\n",
    "* https://www.youtube.com/watch?v=tAOApRQAgpc\n",
    "* https://github.com/tensorflow/agents/tree/master/tf_agents/colabs\n",
    "* https://github.com/tensorflow/agents/blob/master/tf_agents/colabs/6_reinforce_tutorial.ipynb\n",
    "* https://pybullet.org/wordpress/"
   ]
  },
  {
   "cell_type": "code",
   "execution_count": 1,
   "metadata": {},
   "outputs": [],
   "source": [
    "import rl_utils as utils\n",
    "\n",
    "import tensorflow as tf\n",
    "\n",
    "from tf_agents.agents.reinforce import reinforce_agent\n",
    "from tf_agents.drivers import dynamic_step_driver\n",
    "from tf_agents.environments import suite_gym\n",
    "from tf_agents.environments import tf_py_environment\n",
    "from tf_agents.eval import metric_utils\n",
    "from tf_agents.metrics import tf_metrics\n",
    "from tf_agents.networks import actor_distribution_network\n",
    "from tf_agents.replay_buffers import tf_uniform_replay_buffer\n",
    "from tf_agents.trajectories import trajectory\n",
    "from tf_agents.utils import common\n",
    "\n",
    "tf.compat.v1.enable_v2_behavior()\n",
    "\n",
    "env_name = \"CartPole-v0\" \n",
    "#env_name = \"LunarLander-v2\"\n",
    "num_iterations = 300 \n",
    "collect_episodes_per_iteration = 2 \n",
    "replay_buffer_capacity = 2000 \n",
    "\n",
    "fc_layer_params = (100,)\n",
    "\n",
    "learning_rate = 1e-3 # @param {type:\"number\"}\n",
    "log_interval = 25 # @param {type:\"integer\"}\n",
    "num_eval_episodes = 10 # @param {type:\"integer\"}\n",
    "eval_interval = 50 # @param {type:\"integer\"}"
   ]
  },
  {
   "cell_type": "markdown",
   "metadata": {},
   "source": [
    "#### Load the Environment\n",
    "Here we will use the OpenAI Gym Environment"
   ]
  },
  {
   "cell_type": "code",
   "execution_count": 2,
   "metadata": {},
   "outputs": [],
   "source": [
    "train_py_env = suite_gym.load(env_name)\n",
    "eval_py_env = suite_gym.load(env_name)\n",
    "\n",
    "train_env = tf_py_environment.TFPyEnvironment(train_py_env)\n",
    "eval_env = tf_py_environment.TFPyEnvironment(eval_py_env)"
   ]
  },
  {
   "cell_type": "markdown",
   "metadata": {},
   "source": [
    "#### Define the Policy Neural Network\n",
    "Sometimes this is also called \"Actor Network\"."
   ]
  },
  {
   "cell_type": "code",
   "execution_count": 3,
   "metadata": {},
   "outputs": [],
   "source": [
    "actor_net = actor_distribution_network.ActorDistributionNetwork(\n",
    "    train_env.observation_spec(),\n",
    "    train_env.action_spec(),\n",
    "    fc_layer_params=fc_layer_params)\n",
    "\n",
    "optimizer = tf.compat.v1.train.AdamOptimizer(learning_rate=learning_rate)"
   ]
  },
  {
   "cell_type": "markdown",
   "metadata": {},
   "source": [
    "#### Define the RL Algorithm"
   ]
  },
  {
   "cell_type": "code",
   "execution_count": 4,
   "metadata": {},
   "outputs": [],
   "source": [
    "train_step_counter = tf.compat.v2.Variable(0)\n",
    "\n",
    "tf_agent = reinforce_agent.ReinforceAgent(\n",
    "    train_env.time_step_spec(),\n",
    "    train_env.action_spec(),\n",
    "    actor_network=actor_net,\n",
    "    optimizer=optimizer,\n",
    "    normalize_returns=True,\n",
    "    train_step_counter=train_step_counter)\n",
    "tf_agent.initialize()\n"
   ]
  },
  {
   "cell_type": "code",
   "execution_count": 5,
   "metadata": {},
   "outputs": [],
   "source": [
    "eval_policy = tf_agent.policy\n",
    "collect_policy = tf_agent.collect_policy"
   ]
  },
  {
   "cell_type": "code",
   "execution_count": 6,
   "metadata": {},
   "outputs": [],
   "source": [
    "def compute_avg_return(environment, policy, num_episodes=10):    \n",
    "    total_return = 0.0\n",
    "    for _ in range(num_episodes):\n",
    "        time_step = environment.reset()\n",
    "        episode_return = 0.0\n",
    "\n",
    "        while not time_step.is_last():\n",
    "            action_step = policy.action(time_step)\n",
    "            time_step = environment.step(action_step.action)\n",
    "            episode_return += time_step.reward\n",
    "        total_return += episode_return\n",
    "\n",
    "    avg_return = total_return / num_episodes\n",
    "    return avg_return.numpy()[0]\n"
   ]
  },
  {
   "cell_type": "markdown",
   "metadata": {},
   "source": [
    "#### Define Replay Buffer"
   ]
  },
  {
   "cell_type": "code",
   "execution_count": 7,
   "metadata": {},
   "outputs": [],
   "source": [
    "replay_buffer = tf_uniform_replay_buffer.TFUniformReplayBuffer(\n",
    "    data_spec=tf_agent.collect_data_spec,\n",
    "    batch_size=train_env.batch_size,\n",
    "    max_length=replay_buffer_capacity)"
   ]
  },
  {
   "cell_type": "code",
   "execution_count": 8,
   "metadata": {},
   "outputs": [],
   "source": [
    "def collect_episode(environment, policy, num_episodes):\n",
    "\n",
    "    episode_counter = 0\n",
    "    environment.reset()\n",
    "\n",
    "    while episode_counter < num_episodes:\n",
    "        time_step = environment.current_time_step()\n",
    "        action_step = policy.action(time_step)\n",
    "        next_time_step = environment.step(action_step.action)\n",
    "        traj = trajectory.from_transition(time_step, action_step, next_time_step)\n",
    "\n",
    "        # Add trajectory to the replay buffer\n",
    "        replay_buffer.add_batch(traj)\n",
    "\n",
    "        if traj.is_boundary():\n",
    "            episode_counter += 1\n",
    "\n",
    "# This loop is so common in RL, that we provide standard implementations of\n",
    "# these. For more details see the drivers module."
   ]
  },
  {
   "cell_type": "markdown",
   "metadata": {},
   "source": [
    "#### Train(or Play)"
   ]
  },
  {
   "cell_type": "code",
   "execution_count": 9,
   "metadata": {},
   "outputs": [
    {
     "name": "stdout",
     "output_type": "stream",
     "text": [
      "step = 25: loss = 0.02569115161895752\n",
      "step = 50: loss = -0.964031457901001\n",
      "step = 50: Average Return = 61.20000076293945\n",
      "step = 75: loss = -0.3993070721626282\n",
      "step = 100: loss = 0.14142125844955444\n",
      "step = 100: Average Return = 70.9000015258789\n",
      "step = 125: loss = -0.7372076511383057\n",
      "step = 150: loss = -3.473482847213745\n",
      "step = 150: Average Return = 176.60000610351562\n",
      "step = 175: loss = 0.3409379720687866\n",
      "step = 200: loss = -0.9689352512359619\n",
      "step = 200: Average Return = 198.89999389648438\n",
      "step = 225: loss = 1.9577594995498657\n",
      "step = 250: loss = -5.156757831573486\n",
      "step = 250: Average Return = 200.0\n",
      "step = 275: loss = -6.578344345092773\n",
      "step = 300: loss = -0.5671218633651733\n",
      "step = 300: Average Return = 200.0\n",
      "CPU times: user 2min 46s, sys: 652 ms, total: 2min 47s\n",
      "Wall time: 2min 46s\n"
     ]
    }
   ],
   "source": [
    "%%time\n",
    "\n",
    "# (Optional) Optimize by wrapping some of the code in a graph using TF function.\n",
    "tf_agent.train = common.function(tf_agent.train)\n",
    "\n",
    "# Reset the train step\n",
    "tf_agent.train_step_counter.assign(0)\n",
    "\n",
    "# Evaluate the agent's policy once before training.\n",
    "avg_return = compute_avg_return(eval_env, tf_agent.policy, num_eval_episodes)\n",
    "returns = [avg_return]\n",
    "\n",
    "for _ in range(num_iterations):\n",
    "\n",
    "    # Collect a few episodes using collect_policy and save to the replay buffer.\n",
    "    collect_episode(\n",
    "      train_env, tf_agent.collect_policy, collect_episodes_per_iteration)\n",
    "\n",
    "    # Use data from the buffer and update the agent's network.\n",
    "    experience = replay_buffer.gather_all()\n",
    "    train_loss = tf_agent.train(experience)\n",
    "    replay_buffer.clear()\n",
    "\n",
    "    step = tf_agent.train_step_counter.numpy()\n",
    "\n",
    "    if step % log_interval == 0:\n",
    "        print('step = {0}: loss = {1}'.format(step, train_loss.loss))\n",
    "\n",
    "    if step % eval_interval == 0:\n",
    "        avg_return = compute_avg_return(eval_env, tf_agent.policy, num_eval_episodes)\n",
    "        print('step = {0}: Average Return = {1}'.format(step, avg_return))\n",
    "        returns.append(avg_return)"
   ]
  },
  {
   "cell_type": "code",
   "execution_count": 10,
   "metadata": {},
   "outputs": [
    {
     "data": {
      "image/png": "[encoded data removed]",
      "text/plain": [
       "<Figure size 432x288 with 1 Axes>"
      ]
     },
     "metadata": {
      "needs_background": "light"
     },
     "output_type": "display_data"
    }
   ],
   "source": [
    "steps = range(0, num_iterations + 1, eval_interval)\n",
    "utils.plot_avg_returns_by_step(steps, returns)"
   ]
  },
  {
   "cell_type": "code",
   "execution_count": 11,
   "metadata": {},
   "outputs": [
    {
     "name": "stderr",
     "output_type": "stream",
     "text": [
      "IMAGEIO FFMPEG_WRITER WARNING: input image is not divisible by macro_block_size=16, resizing from (600, 400) to (608, 400) to ensure video compatibility with most codecs and players. To prevent resizing, make your input image divisible by the macro_block_size or set the macro_block_size to 1 (risking incompatibility).\n"
     ]
    },
    {
     "data": {
      "text/html": [
       "\n",
       "    <video width=\"640\" height=\"480\" controls>\n",
       "    <source src=\"data:video/mp4;base64,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\" type=\"video/mp4\">\n",
       "    Your browser does not support the video tag.\n",
       "    </video>"
      ],
      "text/plain": [
       "<IPython.core.display.HTML object>"
      ]
     },
     "execution_count": 11,
     "metadata": {},
     "output_type": "execute_result"
    }
   ],
   "source": [
    "num_episodes = 3\n",
    "video_filename = 'imageio.mp4'\n",
    "utils. make_video(video_filename, eval_env, eval_py_env, tf_agent, num_episodes=num_episodes)\n",
    "utils.embed_mp4(video_filename)"
   ]
  }
 ],
 "metadata": {
  "kernelspec": {
   "display_name": "Python 3",
   "language": "python",
   "name": "python3"
  },
  "language_info": {
   "codemirror_mode": {
    "name": "ipython",
    "version": 3
   },
   "file_extension": ".py",
   "mimetype": "text/x-python",
   "name": "python",
   "nbconvert_exporter": "python",
   "pygments_lexer": "ipython3",
   "version": "3.7.4"
  }
 },
 "nbformat": 4,
 "nbformat_minor": 4
}
