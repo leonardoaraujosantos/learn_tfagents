{
 "cells": [
  {
   "cell_type": "markdown",
   "metadata": {},
   "source": [
    "# Deep Q Networks\n",
    "\n",
    "#### Basic Idea\n",
    "sadasdsdThe problem is that on Reinforcement Learning we don't have $y_i$ so we need to sample $$y_i \\sim p(\\bullet|x_i)$$\n",
    "\n",
    "#### Some Vocabulary\n",
    "* Episode: A set of states/action/rewards inside a game starting from a initial state until the terminal state\n",
    "* Rollout: Same as episode but following a pre-trained policy\n",
    "* Advantage Function:  How much is a certain action a good or bad decision given a certain state, it modulate the probability of repeating a certain action in the future.\n",
    "* Baseline: Something to decrease the variance of the Advantage Function\n",
    "\n",
    "\n",
    "#### Pros and Cons of DQN\n",
    "##### Advantages of DQN\n",
    "* Can work with old experience\n",
    "* More sample efficient compared to Policy Gradient Methods\n",
    "\n",
    "##### Disadvantages of DQN\n",
    "* Can't work with continuous action spaces\n",
    "\n",
    "#### Installing\n",
    "```bash\n",
    "pip install --user --upgrade tf-agents-nightly  # depends on tf-nightly\n",
    "pip install tfp-nightly\n",
    "\n",
    "```\n",
    "\n",
    "#### References\n",
    "* https://www.youtube.com/watch?v=tqrcjHuNdmQ\n",
    "* https://www.youtube.com/watch?v=S_gwYj1Q-44\n",
    "* https://www.youtube.com/watch?v=-TTziY7EmUA\n",
    "* https://www.youtube.com/watch?v=tAOApRQAgpc\n",
    "* https://github.com/tensorflow/agents/tree/master/tf_agents/colabs\n",
    "* https://github.com/tensorflow/agents/blob/master/tf_agents/colabs/6_reinforce_tutorial.ipynb\n",
    "* https://pybullet.org/wordpress/"
   ]
  },
  {
   "cell_type": "code",
   "execution_count": 1,
   "metadata": {},
   "outputs": [],
   "source": [
    "import rl_utils as utils\n",
    "import PIL.Image\n",
    "\n",
    "import tensorflow as tf\n",
    "\n",
    "from tf_agents.agents.dqn import dqn_agent\n",
    "from tf_agents.drivers import dynamic_step_driver\n",
    "from tf_agents.environments import suite_gym\n",
    "from tf_agents.environments import tf_py_environment\n",
    "from tf_agents.eval import metric_utils\n",
    "from tf_agents.metrics import tf_metrics\n",
    "from tf_agents.policies import random_tf_policy\n",
    "from tf_agents.networks import q_network\n",
    "from tf_agents.replay_buffers import tf_uniform_replay_buffer\n",
    "from tf_agents.trajectories import trajectory\n",
    "from tf_agents.utils import common\n",
    "\n",
    "tf.compat.v1.enable_v2_behavior()\n",
    "\n",
    "env_name = \"CartPole-v0\" \n",
    "#env_name = \"LunarLander-v2\"\n",
    "num_iterations = 10000 \n",
    "collect_steps_per_iteration = 1\n",
    "replay_buffer_capacity = 100000#2000 \n",
    "\n",
    "fc_layer_params = (100,)\n",
    "\n",
    "learning_rate = 1e-3 # @param {type:\"number\"}\n",
    "log_interval = 2000 # @param {type:\"integer\"}\n",
    "num_eval_episodes = 10 # @param {type:\"integer\"}\n",
    "eval_interval = 50 # @param {type:\"integer\"}\n",
    "batch_size = 64"
   ]
  },
  {
   "cell_type": "markdown",
   "metadata": {},
   "source": [
    "#### Load the Environment\n",
    "Here we will use the OpenAI Gym Environment"
   ]
  },
  {
   "cell_type": "code",
   "execution_count": 2,
   "metadata": {},
   "outputs": [
    {
     "data": {
      "image/png": "[encoded data removed]",
      "text/plain": [
       "<PIL.Image.Image image mode=RGB size=600x400 at 0x7FE694875CD0>"
      ]
     },
     "execution_count": 2,
     "metadata": {},
     "output_type": "execute_result"
    }
   ],
   "source": [
    "train_py_env = suite_gym.load(env_name)\n",
    "eval_py_env = suite_gym.load(env_name)\n",
    "\n",
    "train_env = tf_py_environment.TFPyEnvironment(train_py_env)\n",
    "eval_env = tf_py_environment.TFPyEnvironment(eval_py_env)\n",
    "\n",
    "# Reset the environment and get a screenshot\n",
    "train_py_env.reset()\n",
    "PIL.Image.fromarray(train_py_env.render())"
   ]
  },
  {
   "cell_type": "markdown",
   "metadata": {},
   "source": [
    "#### Define the Policy Neural Network\n",
    "Sometimes this is also called \"Actor Network\"."
   ]
  },
  {
   "cell_type": "code",
   "execution_count": 3,
   "metadata": {},
   "outputs": [],
   "source": [
    "q_net = q_network.QNetwork(\n",
    "    train_env.observation_spec(),\n",
    "    train_env.action_spec(),\n",
    "    fc_layer_params=fc_layer_params)\n",
    "\n",
    "optimizer = tf.compat.v1.train.AdamOptimizer(learning_rate=learning_rate)"
   ]
  },
  {
   "cell_type": "markdown",
   "metadata": {},
   "source": [
    "#### Define the RL Algorithm"
   ]
  },
  {
   "cell_type": "code",
   "execution_count": 4,
   "metadata": {},
   "outputs": [],
   "source": [
    "train_step_counter = tf.compat.v2.Variable(0)\n",
    "\n",
    "agent = dqn_agent.DqnAgent(\n",
    "    train_env.time_step_spec(),\n",
    "    train_env.action_spec(),\n",
    "    q_network=q_net,\n",
    "    optimizer=optimizer,\n",
    "    td_errors_loss_fn=common.element_wise_squared_loss,\n",
    "    train_step_counter=train_step_counter)\n",
    "\n",
    "agent.initialize()"
   ]
  },
  {
   "cell_type": "code",
   "execution_count": 5,
   "metadata": {},
   "outputs": [],
   "source": [
    "eval_policy = agent.policy\n",
    "collect_policy = agent.collect_policy\n",
    "random_policy = random_tf_policy.RandomTFPolicy(train_env.time_step_spec(),\n",
    "                                                train_env.action_spec())"
   ]
  },
  {
   "cell_type": "markdown",
   "metadata": {},
   "source": [
    "#### Define Replay Buffer"
   ]
  },
  {
   "cell_type": "code",
   "execution_count": 6,
   "metadata": {},
   "outputs": [],
   "source": [
    "replay_buffer = tf_uniform_replay_buffer.TFUniformReplayBuffer(\n",
    "    data_spec=agent.collect_data_spec,\n",
    "    batch_size=train_env.batch_size,\n",
    "    max_length=replay_buffer_capacity)"
   ]
  },
  {
   "cell_type": "code",
   "execution_count": 7,
   "metadata": {},
   "outputs": [],
   "source": [
    "#@test {\"skip\": true}\n",
    "def collect_step(environment, policy, buffer):\n",
    "    time_step = environment.current_time_step()\n",
    "    action_step = policy.action(time_step)\n",
    "    next_time_step = environment.step(action_step.action)\n",
    "    traj = trajectory.from_transition(time_step, action_step, next_time_step)\n",
    "\n",
    "    # Add trajectory to the replay buffer\n",
    "    buffer.add_batch(traj)\n",
    "\n",
    "def collect_data(env, policy, buffer, steps):\n",
    "    for _ in range(steps):\n",
    "        collect_step(env, policy, buffer)\n",
    "\n",
    "collect_data(train_env, random_policy, replay_buffer, steps=100)\n",
    "\n",
    "# This loop is so common in RL, that we provide standard implementations. \n",
    "# For more details see the drivers module.\n",
    "# https://github.com/tensorflow/agents/blob/master/tf_agents/docs/python/tf_agents/drivers.md"
   ]
  },
  {
   "cell_type": "code",
   "execution_count": 8,
   "metadata": {},
   "outputs": [
    {
     "data": {
      "text/plain": [
       "<DatasetV1Adapter shapes: (Trajectory(step_type=(64, 2), observation=(64, 2, 4), action=(64, 2), policy_info=(), next_step_type=(64, 2), reward=(64, 2), discount=(64, 2)), BufferInfo(ids=(64, 2), probabilities=(64,))), types: (Trajectory(step_type=tf.int32, observation=tf.float32, action=tf.int64, policy_info=(), next_step_type=tf.int32, reward=tf.float32, discount=tf.float32), BufferInfo(ids=tf.int64, probabilities=tf.float32))>"
      ]
     },
     "execution_count": 8,
     "metadata": {},
     "output_type": "execute_result"
    }
   ],
   "source": [
    "# Dataset generates trajectories with shape [Bx2x...]\n",
    "dataset = replay_buffer.as_dataset(\n",
    "    num_parallel_calls=3, \n",
    "    sample_batch_size=batch_size, \n",
    "    num_steps=2).prefetch(3)\n",
    "\n",
    "\n",
    "dataset"
   ]
  },
  {
   "cell_type": "code",
   "execution_count": 9,
   "metadata": {},
   "outputs": [
    {
     "name": "stdout",
     "output_type": "stream",
     "text": [
      "<tensorflow.python.data.ops.iterator_ops.IteratorV2 object at 0x7fe6700e82d0>\n"
     ]
    }
   ],
   "source": [
    "iterator = iter(dataset)\n",
    "\n",
    "print(iterator)"
   ]
  },
  {
   "cell_type": "markdown",
   "metadata": {},
   "source": [
    "#### Train(or Play)"
   ]
  },
  {
   "cell_type": "code",
   "execution_count": 10,
   "metadata": {},
   "outputs": [
    {
     "name": "stdout",
     "output_type": "stream",
     "text": [
      "step = 50: Average Return = 9.100000381469727\n",
      "step = 100: Average Return = 10.0\n",
      "step = 150: Average Return = 9.0\n",
      "step = 200: Average Return = 9.300000190734863\n",
      "step = 250: Average Return = 9.0\n",
      "step = 300: Average Return = 44.0\n",
      "step = 350: Average Return = 42.70000076293945\n",
      "step = 400: Average Return = 19.899999618530273\n",
      "step = 450: Average Return = 20.0\n",
      "step = 500: Average Return = 44.70000076293945\n",
      "step = 550: Average Return = 29.100000381469727\n",
      "step = 600: Average Return = 29.899999618530273\n",
      "step = 650: Average Return = 31.899999618530273\n",
      "step = 700: Average Return = 26.5\n",
      "step = 750: Average Return = 28.899999618530273\n",
      "step = 800: Average Return = 24.5\n",
      "step = 850: Average Return = 25.5\n",
      "step = 900: Average Return = 33.79999923706055\n",
      "step = 950: Average Return = 28.799999237060547\n",
      "step = 1000: Average Return = 27.0\n",
      "step = 1050: Average Return = 34.099998474121094\n",
      "step = 1100: Average Return = 16.5\n",
      "step = 1150: Average Return = 21.799999237060547\n",
      "step = 1200: Average Return = 19.899999618530273\n",
      "step = 1250: Average Return = 26.600000381469727\n",
      "step = 1300: Average Return = 22.200000762939453\n",
      "step = 1350: Average Return = 19.899999618530273\n",
      "step = 1400: Average Return = 24.299999237060547\n",
      "step = 1450: Average Return = 20.100000381469727\n",
      "step = 1500: Average Return = 21.100000381469727\n",
      "step = 1550: Average Return = 32.70000076293945\n",
      "step = 1600: Average Return = 16.5\n",
      "step = 1650: Average Return = 25.899999618530273\n",
      "step = 1700: Average Return = 25.5\n",
      "step = 1750: Average Return = 24.5\n",
      "step = 1800: Average Return = 22.399999618530273\n",
      "step = 1850: Average Return = 17.100000381469727\n",
      "step = 1900: Average Return = 34.599998474121094\n",
      "step = 1950: Average Return = 19.100000381469727\n",
      "step = 2000: loss = 37.91094970703125\n",
      "step = 2000: Average Return = 17.0\n",
      "step = 2050: Average Return = 13.699999809265137\n",
      "step = 2100: Average Return = 25.100000381469727\n",
      "step = 2150: Average Return = 17.0\n",
      "step = 2200: Average Return = 24.399999618530273\n",
      "step = 2250: Average Return = 23.399999618530273\n",
      "step = 2300: Average Return = 34.599998474121094\n",
      "step = 2350: Average Return = 17.700000762939453\n",
      "step = 2400: Average Return = 25.0\n",
      "step = 2450: Average Return = 31.0\n",
      "step = 2500: Average Return = 27.5\n",
      "step = 2550: Average Return = 30.600000381469727\n",
      "step = 2600: Average Return = 31.5\n",
      "step = 2650: Average Return = 33.099998474121094\n",
      "step = 2700: Average Return = 29.899999618530273\n",
      "step = 2750: Average Return = 24.700000762939453\n",
      "step = 2800: Average Return = 25.100000381469727\n",
      "step = 2850: Average Return = 35.29999923706055\n",
      "step = 2900: Average Return = 34.599998474121094\n",
      "step = 2950: Average Return = 30.799999237060547\n",
      "step = 3000: Average Return = 43.099998474121094\n",
      "step = 3050: Average Return = 28.299999237060547\n",
      "step = 3100: Average Return = 37.0\n",
      "step = 3150: Average Return = 36.099998474121094\n",
      "step = 3200: Average Return = 34.5\n",
      "step = 3250: Average Return = 49.0\n",
      "step = 3300: Average Return = 34.70000076293945\n",
      "step = 3350: Average Return = 33.20000076293945\n",
      "step = 3400: Average Return = 21.0\n",
      "step = 3450: Average Return = 47.099998474121094\n",
      "step = 3500: Average Return = 41.20000076293945\n",
      "step = 3550: Average Return = 39.20000076293945\n",
      "step = 3600: Average Return = 33.400001525878906\n",
      "step = 3650: Average Return = 42.20000076293945\n",
      "step = 3700: Average Return = 28.5\n",
      "step = 3750: Average Return = 35.0\n",
      "step = 3800: Average Return = 49.79999923706055\n",
      "step = 3850: Average Return = 42.5\n",
      "step = 3900: Average Return = 58.20000076293945\n",
      "step = 3950: Average Return = 58.400001525878906\n",
      "step = 4000: loss = 68.96058654785156\n",
      "step = 4000: Average Return = 67.5\n",
      "step = 4050: Average Return = 47.20000076293945\n",
      "step = 4100: Average Return = 58.20000076293945\n",
      "step = 4150: Average Return = 51.79999923706055\n",
      "step = 4200: Average Return = 82.80000305175781\n",
      "step = 4250: Average Return = 75.80000305175781\n",
      "step = 4300: Average Return = 45.099998474121094\n",
      "step = 4350: Average Return = 63.79999923706055\n",
      "step = 4400: Average Return = 51.099998474121094\n",
      "step = 4450: Average Return = 95.9000015258789\n",
      "step = 4500: Average Return = 138.5\n",
      "step = 4550: Average Return = 97.5\n",
      "step = 4600: Average Return = 69.5\n",
      "step = 4650: Average Return = 53.900001525878906\n",
      "step = 4700: Average Return = 76.5\n",
      "step = 4750: Average Return = 69.0\n",
      "step = 4800: Average Return = 110.9000015258789\n",
      "step = 4850: Average Return = 72.0999984741211\n",
      "step = 4900: Average Return = 151.3000030517578\n",
      "step = 4950: Average Return = 168.6999969482422\n",
      "step = 5000: Average Return = 66.5999984741211\n",
      "step = 5050: Average Return = 88.69999694824219\n",
      "step = 5100: Average Return = 121.0\n",
      "step = 5150: Average Return = 126.5999984741211\n",
      "step = 5200: Average Return = 141.0\n",
      "step = 5250: Average Return = 80.69999694824219\n",
      "step = 5300: Average Return = 98.30000305175781\n",
      "step = 5350: Average Return = 112.80000305175781\n",
      "step = 5400: Average Return = 145.0\n",
      "step = 5450: Average Return = 161.89999389648438\n",
      "step = 5500: Average Return = 147.3000030517578\n",
      "step = 5550: Average Return = 119.0\n",
      "step = 5600: Average Return = 146.8000030517578\n",
      "step = 5650: Average Return = 94.69999694824219\n",
      "step = 5700: Average Return = 152.5\n",
      "step = 5750: Average Return = 188.5\n",
      "step = 5800: Average Return = 172.8000030517578\n",
      "step = 5850: Average Return = 138.10000610351562\n",
      "step = 5900: Average Return = 112.0999984741211\n",
      "step = 5950: Average Return = 84.9000015258789\n",
      "step = 6000: loss = 61.18644714355469\n",
      "step = 6000: Average Return = 80.30000305175781\n",
      "step = 6050: Average Return = 126.0\n",
      "step = 6100: Average Return = 78.0999984741211\n",
      "step = 6150: Average Return = 75.30000305175781\n",
      "step = 6200: Average Return = 94.5\n",
      "step = 6250: Average Return = 61.5\n",
      "step = 6300: Average Return = 104.9000015258789\n",
      "step = 6350: Average Return = 115.5\n",
      "step = 6400: Average Return = 103.5999984741211\n",
      "step = 6450: Average Return = 130.1999969482422\n",
      "step = 6500: Average Return = 157.60000610351562\n",
      "step = 6550: Average Return = 139.10000610351562\n",
      "step = 6600: Average Return = 92.0999984741211\n",
      "step = 6650: Average Return = 91.69999694824219\n",
      "step = 6700: Average Return = 164.3000030517578\n",
      "step = 6750: Average Return = 169.39999389648438\n",
      "step = 6800: Average Return = 152.6999969482422\n",
      "step = 6850: Average Return = 169.1999969482422\n",
      "step = 6900: Average Return = 122.19999694824219\n",
      "step = 6950: Average Return = 176.8000030517578\n",
      "step = 7000: Average Return = 114.0999984741211\n",
      "step = 7050: Average Return = 173.89999389648438\n",
      "step = 7100: Average Return = 177.6999969482422\n",
      "step = 7150: Average Return = 161.89999389648438\n",
      "step = 7200: Average Return = 143.0\n",
      "step = 7250: Average Return = 124.0\n",
      "step = 7300: Average Return = 157.89999389648438\n",
      "step = 7350: Average Return = 195.10000610351562\n",
      "step = 7400: Average Return = 117.30000305175781\n",
      "step = 7450: Average Return = 176.60000610351562\n",
      "step = 7500: Average Return = 168.0\n",
      "step = 7550: Average Return = 152.1999969482422\n",
      "step = 7600: Average Return = 183.3000030517578\n",
      "step = 7650: Average Return = 171.1999969482422\n",
      "step = 7700: Average Return = 175.89999389648438\n",
      "step = 7750: Average Return = 192.5\n",
      "step = 7800: Average Return = 133.89999389648438\n",
      "step = 7850: Average Return = 182.39999389648438\n",
      "step = 7900: Average Return = 111.5\n",
      "step = 7950: Average Return = 187.6999969482422\n",
      "step = 8000: loss = 242.5989990234375\n",
      "step = 8000: Average Return = 193.39999389648438\n",
      "step = 8050: Average Return = 186.6999969482422\n",
      "step = 8100: Average Return = 193.10000610351562\n",
      "step = 8150: Average Return = 181.39999389648438\n",
      "step = 8200: Average Return = 188.6999969482422\n",
      "step = 8250: Average Return = 177.60000610351562\n",
      "step = 8300: Average Return = 164.60000610351562\n",
      "step = 8350: Average Return = 196.8000030517578\n",
      "step = 8400: Average Return = 159.1999969482422\n",
      "step = 8450: Average Return = 168.10000610351562\n",
      "step = 8500: Average Return = 161.10000610351562\n",
      "step = 8550: Average Return = 184.0\n",
      "step = 8600: Average Return = 168.39999389648438\n",
      "step = 8650: Average Return = 190.5\n",
      "step = 8700: Average Return = 137.5\n",
      "step = 8750: Average Return = 147.10000610351562\n",
      "step = 8800: Average Return = 163.3000030517578\n",
      "step = 8850: Average Return = 104.9000015258789\n",
      "step = 8900: Average Return = 183.8000030517578\n",
      "step = 8950: Average Return = 130.6999969482422\n",
      "step = 9000: Average Return = 185.0\n",
      "step = 9050: Average Return = 177.6999969482422\n",
      "step = 9100: Average Return = 180.1999969482422\n",
      "step = 9150: Average Return = 174.10000610351562\n",
      "step = 9200: Average Return = 151.3000030517578\n",
      "step = 9250: Average Return = 194.5\n",
      "step = 9300: Average Return = 200.0\n",
      "step = 9350: Average Return = 189.1999969482422\n",
      "step = 9400: Average Return = 179.8000030517578\n",
      "step = 9450: Average Return = 187.5\n",
      "step = 9500: Average Return = 196.6999969482422\n",
      "step = 9550: Average Return = 186.10000610351562\n",
      "step = 9600: Average Return = 175.8000030517578\n",
      "step = 9650: Average Return = 195.60000610351562\n",
      "step = 9700: Average Return = 169.5\n",
      "step = 9750: Average Return = 186.89999389648438\n",
      "step = 9800: Average Return = 182.8000030517578\n",
      "step = 9850: Average Return = 186.10000610351562\n",
      "step = 9900: Average Return = 166.1999969482422\n",
      "step = 9950: Average Return = 191.8000030517578\n",
      "step = 10000: loss = 342.7363586425781\n",
      "step = 10000: Average Return = 200.0\n",
      "CPU times: user 7min 20s, sys: 3.18 s, total: 7min 24s\n",
      "Wall time: 7min 2s\n"
     ]
    }
   ],
   "source": [
    "%%time\n",
    "\n",
    "# (Optional) Optimize by wrapping some of the code in a graph using TF function.\n",
    "agent.train = common.function(agent.train)\n",
    "\n",
    "# Reset the train step\n",
    "agent.train_step_counter.assign(0)\n",
    "\n",
    "# Evaluate the agent's policy once before training.\n",
    "avg_return = utils.compute_avg_return(eval_env, agent.policy, num_eval_episodes)\n",
    "returns = [avg_return]\n",
    "\n",
    "for _ in range(num_iterations):\n",
    "\n",
    "    # Collect a few steps using collect_policy and save to the replay buffer.\n",
    "    for _ in range(collect_steps_per_iteration):\n",
    "        collect_step(train_env, agent.collect_policy, replay_buffer)\n",
    "\n",
    "    # Sample a batch of data from the buffer and update the agent's network.\n",
    "    experience, unused_info = next(iterator)\n",
    "    train_loss = agent.train(experience).loss\n",
    "\n",
    "    step = agent.train_step_counter.numpy()\n",
    "\n",
    "    if step % log_interval == 0:\n",
    "        print('step = {0}: loss = {1}'.format(step, train_loss))\n",
    "\n",
    "    if step % eval_interval == 0:\n",
    "        avg_return = utils.compute_avg_return(eval_env, agent.policy, num_eval_episodes)\n",
    "        print('step = {0}: Average Return = {1}'.format(step, avg_return))\n",
    "        returns.append(avg_return)"
   ]
  },
  {
   "cell_type": "code",
   "execution_count": 11,
   "metadata": {},
   "outputs": [
    {
     "data": {
      "image/png": "[encoded data removed]",
      "text/plain": [
       "<Figure size 432x288 with 1 Axes>"
      ]
     },
     "metadata": {
      "needs_background": "light"
     },
     "output_type": "display_data"
    }
   ],
   "source": [
    "steps = range(0, num_iterations + 1, eval_interval)\n",
    "utils.plot_avg_returns_by_step(steps, returns)"
   ]
  },
  {
   "cell_type": "code",
   "execution_count": 12,
   "metadata": {},
   "outputs": [
    {
     "name": "stderr",
     "output_type": "stream",
     "text": [
      "IMAGEIO FFMPEG_WRITER WARNING: input image is not divisible by macro_block_size=16, resizing from (600, 400) to (608, 400) to ensure video compatibility with most codecs and players. To prevent resizing, make your input image divisible by the macro_block_size or set the macro_block_size to 1 (risking incompatibility).\n"
     ]
    },
    {
     "data": {
      "text/html": [
       "\n",
       "    <video width=\"640\" height=\"480\" controls>\n",
       "    <source src=\"data:video/mp4;base64,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\" type=\"video/mp4\">\n",
       "    Your browser does not support the video tag.\n",
       "    </video>"
      ],
      "text/plain": [
       "<IPython.core.display.HTML object>"
      ]
     },
     "execution_count": 12,
     "metadata": {},
     "output_type": "execute_result"
    }
   ],
   "source": [
    "num_episodes = 3\n",
    "video_filename = 'imageio.mp4'\n",
    "utils. make_video(video_filename, eval_env, eval_py_env, agent, num_episodes=num_episodes)\n",
    "utils.embed_mp4(video_filename)"
   ]
  },
  {
   "cell_type": "code",
   "execution_count": null,
   "metadata": {},
   "outputs": [],
   "source": []
  }
 ],
 "metadata": {
  "kernelspec": {
   "display_name": "Python 3",
   "language": "python",
   "name": "python3"
  },
  "language_info": {
   "codemirror_mode": {
    "name": "ipython",
    "version": 3
   },
   "file_extension": ".py",
   "mimetype": "text/x-python",
   "name": "python",
   "nbconvert_exporter": "python",
   "pygments_lexer": "ipython3",
   "version": "3.7.4"
  }
 },
 "nbformat": 4,
 "nbformat_minor": 4
}
